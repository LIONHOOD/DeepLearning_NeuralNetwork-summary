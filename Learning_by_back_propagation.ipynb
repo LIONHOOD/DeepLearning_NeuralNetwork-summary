{
  "nbformat": 4,
  "nbformat_minor": 0,
  "metadata": {
    "colab": {
      "provenance": [],
      "authorship_tag": "ABX9TyP3MP8CP6sowpNj80LmMIQl"
    },
    "kernelspec": {
      "name": "python3",
      "display_name": "Python 3"
    },
    "language_info": {
      "name": "python"
    }
  },
  "cells": [
    {
      "cell_type": "markdown",
      "source": [
        "**퍼셉트론 수렴 정리** : 선형 분리 가능 문제는 데이터로부터 유한한 학습을 통해 해결 가능하지만, 비선형 분리 문제는 불가능\n",
        "\n",
        "**end-to-end** : 머신러닝에서 입력 데이터(처음)부터 목표한 결과(끝)까지 사람의 개입 없이 학습하는 방식 ; 딥러닝"
      ],
      "metadata": {
        "id": "MD4-r5u9pr3C"
      }
    },
    {
      "cell_type": "code",
      "source": [
        "import numpy as np"
      ],
      "metadata": {
        "id": "IiBZdLLTyO5K"
      },
      "execution_count": 27,
      "outputs": []
    },
    {
      "cell_type": "code",
      "execution_count": 28,
      "metadata": {
        "id": "t51bi60xy_Sd"
      },
      "outputs": [],
      "source": [
        "# 데이터 하나에 대한 손실 함수\n",
        "\n",
        "# 오차제곱합\n",
        "def sum_squares_error(y_pred,y_test):\n",
        "    return 0.5*np.sum((y_pred-y_test)**2)\n",
        "\n",
        "# 크로스엔트로피\n",
        "def cross_entropy_error(y_pred,y_test):\n",
        "    delta = 1e-7 # 예측 확률이 0인 클래스가 실제 정답일 경우 무한대 발산 예방\n",
        "    return -np.sum(y_test*np.log(y_pred+delta))"
      ]
    },
    {
      "cell_type": "markdown",
      "source": [
        "**미니배치** : 훈련 데이터의 일부를 무작위 추출"
      ],
      "metadata": {
        "id": "8Ge-KR3p8CeU"
      }
    },
    {
      "cell_type": "code",
      "source": [
        "from keras.datasets import mnist\n",
        "(x_train,y_train),(x_test,y_test) = mnist.load_data()\n",
        "x_train = x_train.reshape(60000,784)\n",
        "y_train = y_train.reshape(60000,)\n",
        "x_test = x_test.reshape(10000,784)\n",
        "y_test = y_test.reshape(10000,)"
      ],
      "metadata": {
        "id": "SO9cHunUx7Tw"
      },
      "execution_count": 29,
      "outputs": []
    },
    {
      "cell_type": "code",
      "source": [
        "import pandas as pd"
      ],
      "metadata": {
        "id": "ORy04N93-SIp"
      },
      "execution_count": 30,
      "outputs": []
    },
    {
      "cell_type": "code",
      "source": [
        "# 원핫 인코딩\n",
        "y_train = pd.get_dummies(y_train).to_numpy()\n",
        "y_test = pd.get_dummies(y_test).to_numpy()\n",
        "print(y_train.shape, y_test.shape)"
      ],
      "metadata": {
        "colab": {
          "base_uri": "https://localhost:8080/"
        },
        "id": "Mv3cHCtEx7cL",
        "outputId": "9f918a63-a8e0-4eb0-d855-95cf29589e69"
      },
      "execution_count": 31,
      "outputs": [
        {
          "output_type": "stream",
          "name": "stdout",
          "text": [
            "(60000, 10) (10000, 10)\n"
          ]
        }
      ]
    },
    {
      "cell_type": "code",
      "source": [
        "# 무작위 10개 추출\n",
        "train_size = x_train.shape[0]\n",
        "batch_size = 10\n",
        "# [0,train_size) 정수 범위에서 batch_size개 무작위 추출\n",
        "batch_mask = np.random.choice(train_size, batch_size)\n",
        "x_batch = x_train[batch_mask]\n",
        "y_batch = y_train[batch_mask]"
      ],
      "metadata": {
        "id": "JKgJBFmP-W9q"
      },
      "execution_count": 32,
      "outputs": []
    },
    {
      "cell_type": "code",
      "source": [
        "# 배치 크로스엔트로피 ; 원핫 인코딩된 y_test\n",
        "def cross_entropy_error(y_pred,y_test):\n",
        "    if y_pred.ndim==1: # 데이터가 하나인 경우,\n",
        "        y_test = y_test.reshape(1,-1) # 2차원으로 변환\n",
        "        y_pred = y_pred.reshape(1,-1)\n",
        "    batch_size = y_pred.shape[0]\n",
        "    return -np.sum(y_test*np.log(y_pred+1e-7))/batch_size"
      ],
      "metadata": {
        "id": "DyvdNS_v_igu"
      },
      "execution_count": 33,
      "outputs": []
    },
    {
      "cell_type": "code",
      "source": [
        "# 배치 크로스엔트로피 ; 레이블 인코딩된 y_test\n",
        "def cross_entropy_error(y_pred,y_test):\n",
        "    if y_pred.ndim==1: # 데이터가 하나인 경우,\n",
        "        y_test = y_test.reshape(1,-1) # 2차원으로 변환\n",
        "        y_pred = y_pred.reshape(1,-1)\n",
        "    batch_size = y_pred.shape[0]\n",
        "    return -np.sum(np.log(y_pred[np.arange(batch_size),y_test]+1e-7))/batch_size"
      ],
      "metadata": {
        "id": "tvG2Q15LcVog"
      },
      "execution_count": 34,
      "outputs": []
    },
    {
      "cell_type": "markdown",
      "source": [
        "**gradient descent**"
      ],
      "metadata": {
        "id": "WDaCvJCE96aD"
      }
    },
    {
      "cell_type": "code",
      "source": [
        "def obj_f(x):\n",
        "    return x[0]**2+x[1]**2\n",
        "\n",
        "def num_grad(f,x):\n",
        "    h = 1e-4\n",
        "    grad = np.zeros_like(x)\n",
        "\n",
        "    for i in range(x.size):\n",
        "        tmp = x[i] # 편미분 변수 x 고정\n",
        "\n",
        "        x[i] = tmp+h\n",
        "        fph = f(x) # f(x+h)\n",
        "\n",
        "        x[i] = tmp-h\n",
        "        fnh = f(x) # f(x-h)\n",
        "\n",
        "        grad[i] = (fph-fnh)/(2*h)\n",
        "        x[i] = tmp\n",
        "    return grad\n",
        "\n",
        "def grad_des(f,init_x,lr=0.01,step_num=100): # 경사 하강\n",
        "    x = init_x\n",
        "    for _ in range(step_num):\n",
        "        x -= lr*num_grad(f,x)\n",
        "    return x\n",
        "\n",
        "for lr in [1e-10, 0.01, 0.1, 1.0, 10.0]: # 학습률에 따른 결과\n",
        "    init_x = np.array([-3.0,4.0])\n",
        "    print(grad_des(f=obj_f,init_x=init_x,lr=lr,step_num=100))\n",
        "# f(a,b) = a**2 + b**2 는 (a,b)=(0,0) 에서 최솟값 0을 가지므로 학습률 0.1이 가장 적절함"
      ],
      "metadata": {
        "colab": {
          "base_uri": "https://localhost:8080/"
        },
        "id": "E7qNAC-HgIZw",
        "outputId": "dc2098bc-fc72-4a53-95f8-92e6e44ee343"
      },
      "execution_count": 35,
      "outputs": [
        {
          "output_type": "stream",
          "name": "stdout",
          "text": [
            "[-2.99999994  3.99999992]\n",
            "[-0.39785867  0.53047822]\n",
            "[-6.11110793e-10  8.14814391e-10]\n",
            "[-3.  4.]\n",
            "[-2.58983747e+13 -1.29524862e+12]\n"
          ]
        }
      ]
    },
    {
      "cell_type": "code",
      "source": [
        "# 구글드라이브 마운트\n",
        "from google.colab import drive\n",
        "drive.mount('/content/drive')\n",
        "# change directory\n",
        "%cd '/content/drive/MyDrive/연구실/Deep Learning from scratch 1/deep-learning-from-scratch'"
      ],
      "metadata": {
        "id": "8P_v80s5Bz-q",
        "colab": {
          "base_uri": "https://localhost:8080/"
        },
        "outputId": "45a3441f-3ae4-4897-e5fa-8824660779b6"
      },
      "execution_count": 36,
      "outputs": [
        {
          "output_type": "stream",
          "name": "stdout",
          "text": [
            "Drive already mounted at /content/drive; to attempt to forcibly remount, call drive.mount(\"/content/drive\", force_remount=True).\n",
            "/content/drive/MyDrive/연구실/Deep Learning from scratch 1/deep-learning-from-scratch\n"
          ]
        }
      ]
    },
    {
      "cell_type": "code",
      "source": [
        "from common.functions import softmax,cross_entropy_error\n",
        "from common.gradient import numerical_gradient"
      ],
      "metadata": {
        "id": "oSz5dZKRJvYs"
      },
      "execution_count": 37,
      "outputs": []
    },
    {
      "cell_type": "code",
      "source": [
        "class simpleNet: # 클래스 내에서 정의되는 함수는 메서드가 되고, 메서드 사용(해당 클래스의 인스턴스만 가능)에서 self 인자는 생략\n",
        "    def __init__(self): # 클래스 내 속성을 초기화하는 함수(메서드)\n",
        "        self.W = np.random.randn(2,3) # simpleNet 클래스의 속성 W를 shape이 (2,3)인 표준정규분포의 난수로 초기화\n",
        "    \n",
        "    def predict(self,x): # 입력\n",
        "        return np.dot(x,self.W) # 예측 반환\n",
        "    \n",
        "    def loss(self,x,t): # 입력, 정답\n",
        "        z = self.predict(x)\n",
        "        y = softmax(z) # 예측 확률\n",
        "        loss = cross_entropy_error(y,t)\n",
        "        return loss # 손실 반환"
      ],
      "metadata": {
        "id": "LDMvOAhlCUoa"
      },
      "execution_count": 38,
      "outputs": []
    },
    {
      "cell_type": "code",
      "source": [
        "net = simpleNet()\n",
        "print(net.W) # 초기화된 가중치 매개변수\n",
        "\n",
        "x = np.array([.6,.9]) # 입력\n",
        "p = net.predict(x)\n",
        "print(p) # 예측(클래스별 점수)\n",
        "print(np.argmax(p)) # 점수가 가장 큰 클래스의 위치\n",
        "\n",
        "t = np.array([0,0,1]) # 정답(원핫 인코딩)\n",
        "print(net.loss(x,t)) # 손실"
      ],
      "metadata": {
        "colab": {
          "base_uri": "https://localhost:8080/"
        },
        "id": "DjCTS_S1FWpa",
        "outputId": "be211cf4-ca96-4d50-a093-d9cd0a7e06a6"
      },
      "execution_count": 39,
      "outputs": [
        {
          "output_type": "stream",
          "name": "stdout",
          "text": [
            "[[ 1.08841948  1.72164175 -0.57112061]\n",
            " [-0.22618158 -0.84832457  0.88107264]]\n",
            "[0.44948827 0.26949294 0.45029301]\n",
            "2\n",
            "1.0416175008728223\n"
          ]
        }
      ]
    },
    {
      "cell_type": "code",
      "source": [
        "f = lambda W: net.loss(x,t) # 가중치 행렬 W에 대한 손실 함수\n",
        "\n",
        "dW = numerical_gradient(f, net.W) # 가중치 행렬 W에 대한 손실 함수의 기울기(편미분)\n",
        "print(dW)"
      ],
      "metadata": {
        "colab": {
          "base_uri": "https://localhost:8080/"
        },
        "id": "NqB1POQlIhKg",
        "outputId": "c1eee65a-4a77-4a93-d52c-1f5ed57f9c0b"
      },
      "execution_count": 40,
      "outputs": [
        {
          "output_type": "stream",
          "name": "stdout",
          "text": [
            "[[ 0.21155962  0.17671027 -0.38826989]\n",
            " [ 0.31733943  0.26506541 -0.58240484]]\n"
          ]
        }
      ]
    },
    {
      "cell_type": "code",
      "source": [
        "# SGD로 MNIST 손글씨 분류 모델\n",
        "\n",
        "# 2층 신경망 클래스\n",
        "from common.functions import *\n",
        "from common.gradient import numerical_gradient\n",
        "\n",
        "class TwoLayerNet:\n",
        "    def __init__(self, input_size, hidden_size, output_size, weight_init_std=0.01):\n",
        "        self.params = {}\n",
        "        self.params['W1'] = weight_init_std * np.random.randn(input_size, hidden_size)\n",
        "        self.params['b1'] = np.zeros(hidden_size)\n",
        "        self.params['W2'] = weight_init_std * np.random.randn(hidden_size, output_size)\n",
        "        self.params['b2'] = np.zeros(output_size)\n",
        "\n",
        "    def predict(self, x):\n",
        "        W1, W2 = self.params['W1'], self.params['W2']\n",
        "        b1, b2 = self.params['b1'], self.params['b2']\n",
        "        a1 = np.dot(x, W1) + b1\n",
        "        z1 = sigmoid(a1)\n",
        "        a2 = np.dot(z1, W2) + b2\n",
        "        y = softmax(a2)\n",
        "        return y\n",
        "    \n",
        "    def loss(self, x, t):\n",
        "        y = self.predict(x)\n",
        "        return cross_entropy_error(y, t)\n",
        "\n",
        "    def accuracy(self, x, t):\n",
        "        y = self.predict(x)\n",
        "        y = np.argmax(y, axis=1)\n",
        "        t = np.argmax(t, axis=1)\n",
        "        accuracy = np.sum(y==t) / float(x.shape[0])\n",
        "        return accuracy\n",
        "\n",
        "    def numerical_gradient(self, x, t):\n",
        "        loss_W = lambda W: self.loss(x, t)\n",
        "        grads = {}\n",
        "        grads['W1'] = numerical_gradient(loss_W, self.params['W1'])\n",
        "        grads['b1'] = numerical_gradient(loss_W, self.params['b1'])\n",
        "        grads['W2'] = numerical_gradient(loss_W, self.params['W2'])\n",
        "        grads['b2'] = numerical_gradient(loss_W, self.params['b2'])\n",
        "        return grads"
      ],
      "metadata": {
        "id": "7miNJ0BwIhnB"
      },
      "execution_count": 41,
      "outputs": []
    },
    {
      "cell_type": "code",
      "source": [
        "# 미니배치 학습\n",
        "from dataset.mnist import load_mnist\n",
        "from ch04.two_layer_net import TwoLayerNet\n",
        "from tqdm import tqdm\n",
        "(x_train, t_train), (x_test, t_test) = load_mnist(normalize=True, one_hot_label=True)\n",
        "\n",
        "train_loss_list = []\n",
        "\n",
        "iters_num = 10000\n",
        "train_size = x_train.shape[0]\n",
        "batch_size = 100\n",
        "learning_rate = 0.1\n",
        "\n",
        "network = TwoLayerNet(input_size=784, hidden_size=50, output_size=10)\n",
        "for i in tqdm(range(iters_num)):\n",
        "    batch_mask = np.random.choice(train_size, batch_size)\n",
        "    x_batch = x_train[batch_mask]\n",
        "    t_batch = t_train[batch_mask]\n",
        "\n",
        "    # grad = network.numerical_gradient(x_batch, t_batch)\n",
        "    grad = network.gradient(x_batch, t_batch) # 성능 개선\n",
        "    for key in ('W1','b1','W2','b2'):\n",
        "        network.params[key] -= learning_rate * grad[key]\n",
        "    \n",
        "    loss = network.loss(x_batch, t_batch) # 미니배치에 대한 손실\n",
        "    train_loss_list.append(loss)"
      ],
      "metadata": {
        "colab": {
          "base_uri": "https://localhost:8080/"
        },
        "id": "OBlRwGV0Ytut",
        "outputId": "471dd010-8078-4811-804d-55a90b1c26f7"
      },
      "execution_count": 42,
      "outputs": [
        {
          "output_type": "stream",
          "name": "stderr",
          "text": [
            "100%|██████████| 10000/10000 [00:41<00:00, 243.27it/s]\n"
          ]
        }
      ]
    },
    {
      "cell_type": "code",
      "source": [
        "import matplotlib.pyplot as plt\n",
        "plt.plot(train_loss_list);"
      ],
      "metadata": {
        "colab": {
          "base_uri": "https://localhost:8080/",
          "height": 265
        },
        "id": "7R4mMS-qkQe9",
        "outputId": "0bf5b244-1106-4e03-ccc0-fcfe1f34aaa0"
      },
      "execution_count": 43,
      "outputs": [
        {
          "output_type": "display_data",
          "data": {
            "text/plain": [
              "<Figure size 432x288 with 1 Axes>"
            ],
            "image/png": "[encoded data removed]"
          },
          "metadata": {
            "needs_background": "light"
          }
        }
      ]
    },
    {
      "cell_type": "markdown",
      "source": [
        "**epoch** : 학습 과정에서 훈련 데이터 전체에 대한 순회 단위\n",
        "- 경사 하강을 위해 랜덤 추출된 모든 미니배치에 중복되거나 누락된 훈련 데이터 샘플이 있더라도 batch size를 통해 1 epoch의 경사 하강 횟수를 결정"
      ],
      "metadata": {
        "id": "myDyBW-0mfqk"
      }
    },
    {
      "cell_type": "code",
      "source": [
        "# 미니배치 학습\n",
        "from dataset.mnist import load_mnist\n",
        "from ch04.two_layer_net import TwoLayerNet\n",
        "from tqdm import tqdm\n",
        "(x_train, t_train), (x_test, t_test) = load_mnist(normalize=True, one_hot_label=True)\n",
        "\n",
        "train_loss_list = []\n",
        "train_acc_list = []\n",
        "test_acc_list = []\n",
        "\n",
        "iters_num = 10000\n",
        "train_size = x_train.shape[0]\n",
        "batch_size = 100\n",
        "learning_rate = 0.1\n",
        "\n",
        "iter_per_epoch = max(train_size/batch_size, 1) # 600\n",
        "\n",
        "network = TwoLayerNet(input_size=784, hidden_size=50, output_size=10)\n",
        "for i in tqdm(range(iters_num)):\n",
        "    batch_mask = np.random.choice(train_size, batch_size)\n",
        "    x_batch = x_train[batch_mask]\n",
        "    t_batch = t_train[batch_mask]\n",
        "\n",
        "    # grad = network.numerical_gradient(x_batch, t_batch)\n",
        "    grad = network.gradient(x_batch, t_batch) # 성능 개선\n",
        "    for key in ('W1','b1','W2','b2'):\n",
        "        network.params[key] -= learning_rate * grad[key]\n",
        "    \n",
        "    loss = network.loss(x_batch, t_batch) # 미니배치에 대한 손실\n",
        "    train_loss_list.append(loss)\n",
        "\n",
        "    # 1 epoch 학습마다 정확도 출력\n",
        "    if i%iter_per_epoch==0:\n",
        "        train_acc = network.accuracy(x_train, t_train)\n",
        "        test_acc = network.accuracy(x_test, t_test)\n",
        "        train_acc_list.append(train_acc)\n",
        "        test_acc_list.append(test_acc)\n",
        "        print('train acc, test acc | ' + str(train_acc) + ', ' + str(test_acc))"
      ],
      "metadata": {
        "colab": {
          "base_uri": "https://localhost:8080/"
        },
        "id": "VBuZjKGwkedC",
        "outputId": "3e453780-1c00-4351-d509-0e7b9ad2b845"
      },
      "execution_count": 44,
      "outputs": [
        {
          "output_type": "stream",
          "name": "stderr",
          "text": [
            "  0%|          | 33/10000 [00:00<03:09, 52.54it/s] "
          ]
        },
        {
          "output_type": "stream",
          "name": "stdout",
          "text": [
            "train acc, test acc | 0.10218333333333333, 0.101\n"
          ]
        },
        {
          "output_type": "stream",
          "name": "stderr",
          "text": [
            "  6%|▌         | 622/10000 [00:04<02:21, 66.41it/s]"
          ]
        },
        {
          "output_type": "stream",
          "name": "stdout",
          "text": [
            "train acc, test acc | 0.7929166666666667, 0.7971\n"
          ]
        },
        {
          "output_type": "stream",
          "name": "stderr",
          "text": [
            " 12%|█▏        | 1216/10000 [00:09<02:21, 62.18it/s]"
          ]
        },
        {
          "output_type": "stream",
          "name": "stdout",
          "text": [
            "train acc, test acc | 0.8768666666666667, 0.8811\n"
          ]
        },
        {
          "output_type": "stream",
          "name": "stderr",
          "text": [
            " 18%|█▊        | 1808/10000 [00:17<12:59, 10.51it/s]"
          ]
        },
        {
          "output_type": "stream",
          "name": "stdout",
          "text": [
            "train acc, test acc | 0.89835, 0.9013\n"
          ]
        },
        {
          "output_type": "stream",
          "name": "stderr",
          "text": [
            " 24%|██▍       | 2434/10000 [00:24<01:24, 89.83it/s]"
          ]
        },
        {
          "output_type": "stream",
          "name": "stdout",
          "text": [
            "train acc, test acc | 0.9071333333333333, 0.9119\n"
          ]
        },
        {
          "output_type": "stream",
          "name": "stderr",
          "text": [
            " 30%|███       | 3037/10000 [00:27<01:00, 115.77it/s]"
          ]
        },
        {
          "output_type": "stream",
          "name": "stdout",
          "text": [
            "train acc, test acc | 0.9156166666666666, 0.917\n"
          ]
        },
        {
          "output_type": "stream",
          "name": "stderr",
          "text": [
            " 36%|███▌      | 3617/10000 [00:33<02:56, 36.09it/s] "
          ]
        },
        {
          "output_type": "stream",
          "name": "stdout",
          "text": [
            "train acc, test acc | 0.9209, 0.9223\n"
          ]
        },
        {
          "output_type": "stream",
          "name": "stderr",
          "text": [
            " 42%|████▏     | 4226/10000 [00:41<01:45, 54.53it/s]"
          ]
        },
        {
          "output_type": "stream",
          "name": "stdout",
          "text": [
            "train acc, test acc | 0.9251666666666667, 0.9268\n"
          ]
        },
        {
          "output_type": "stream",
          "name": "stderr",
          "text": [
            " 48%|████▊     | 4833/10000 [00:45<00:40, 126.49it/s]"
          ]
        },
        {
          "output_type": "stream",
          "name": "stdout",
          "text": [
            "train acc, test acc | 0.9289, 0.9307\n"
          ]
        },
        {
          "output_type": "stream",
          "name": "stderr",
          "text": [
            " 55%|█████▍    | 5460/10000 [00:48<00:35, 129.39it/s]"
          ]
        },
        {
          "output_type": "stream",
          "name": "stdout",
          "text": [
            "train acc, test acc | 0.9327, 0.9337\n"
          ]
        },
        {
          "output_type": "stream",
          "name": "stderr",
          "text": [
            " 60%|██████    | 6017/10000 [00:54<02:48, 23.70it/s]"
          ]
        },
        {
          "output_type": "stream",
          "name": "stdout",
          "text": [
            "train acc, test acc | 0.9359833333333333, 0.9367\n"
          ]
        },
        {
          "output_type": "stream",
          "name": "stderr",
          "text": [
            " 66%|██████▋   | 6647/10000 [00:59<00:34, 98.19it/s]"
          ]
        },
        {
          "output_type": "stream",
          "name": "stdout",
          "text": [
            "train acc, test acc | 0.9373666666666667, 0.9375\n"
          ]
        },
        {
          "output_type": "stream",
          "name": "stderr",
          "text": [
            " 72%|███████▏  | 7225/10000 [01:04<01:04, 42.99it/s]"
          ]
        },
        {
          "output_type": "stream",
          "name": "stdout",
          "text": [
            "train acc, test acc | 0.94005, 0.9407\n"
          ]
        },
        {
          "output_type": "stream",
          "name": "stderr",
          "text": [
            " 78%|███████▊  | 7820/10000 [01:13<00:41, 52.70it/s] "
          ]
        },
        {
          "output_type": "stream",
          "name": "stdout",
          "text": [
            "train acc, test acc | 0.9418833333333333, 0.9423\n"
          ]
        },
        {
          "output_type": "stream",
          "name": "stderr",
          "text": [
            " 84%|████████▍ | 8402/10000 [01:16<00:36, 43.46it/s] "
          ]
        },
        {
          "output_type": "stream",
          "name": "stdout",
          "text": [
            "train acc, test acc | 0.9442666666666667, 0.9443\n"
          ]
        },
        {
          "output_type": "stream",
          "name": "stderr",
          "text": [
            " 90%|█████████ | 9018/10000 [01:23<00:38, 25.55it/s]"
          ]
        },
        {
          "output_type": "stream",
          "name": "stdout",
          "text": [
            "train acc, test acc | 0.94625, 0.946\n"
          ]
        },
        {
          "output_type": "stream",
          "name": "stderr",
          "text": [
            " 96%|█████████▌| 9624/10000 [01:29<00:05, 68.73it/s]"
          ]
        },
        {
          "output_type": "stream",
          "name": "stdout",
          "text": [
            "train acc, test acc | 0.9479666666666666, 0.9463\n"
          ]
        },
        {
          "output_type": "stream",
          "name": "stderr",
          "text": [
            "100%|██████████| 10000/10000 [01:31<00:00, 109.25it/s]\n"
          ]
        }
      ]
    },
    {
      "cell_type": "code",
      "source": [
        "plt.plot(train_acc_list, linewidth=6, c='b')\n",
        "plt.plot(test_acc_list, linewidth=3, c='r');"
      ],
      "metadata": {
        "colab": {
          "base_uri": "https://localhost:8080/",
          "height": 265
        },
        "id": "J0KS4tPVnqC2",
        "outputId": "7b719130-cfac-4f7f-e6ec-b1eee82243b8"
      },
      "execution_count": 45,
      "outputs": [
        {
          "output_type": "display_data",
          "data": {
            "text/plain": [
              "<Figure size 432x288 with 1 Axes>"
            ],
            "image/png": "[encoded data removed]"
          },
          "metadata": {
            "needs_background": "light"
          }
        }
      ]
    },
    {
      "cell_type": "markdown",
      "source": [
        "**계층** : 신경망의 기능 단위\n",
        "- 클래스로 구현 : forward (순전파) / backward (역전파)"
      ],
      "metadata": {
        "id": "1h7FjNdnMeKh"
      }
    },
    {
      "cell_type": "code",
      "source": [
        "# 곱셈 계층\n",
        "class MulLayer:\n",
        "    def __init__(self):\n",
        "        self.x = None\n",
        "        self.y = None\n",
        "    \n",
        "    def forward(self, x, y):\n",
        "        self.x = x\n",
        "        self.y = y\n",
        "        out = x * y\n",
        "        return out\n",
        "    \n",
        "    def backward(self, dout): # dout : 상류로부터 받은 미분\n",
        "        dx = dout * self.y\n",
        "        dy = dout * self.x\n",
        "        return dx, dy\n",
        "\n",
        "# 사과 쇼핑 구현\n",
        "apple = 100 # 사과 1개 가격\n",
        "apple_num = 2 # 사과 개수\n",
        "tax = 1.1 # 사과 소비세\n",
        "\n",
        "mul_apple_layer = MulLayer()\n",
        "mul_tax_layer = MulLayer()\n",
        "\n",
        "# 순전파\n",
        "apple_price = mul_apple_layer.forward(apple, apple_num)\n",
        "price = mul_tax_layer.forward(apple_price, tax)\n",
        "print(price)\n",
        "\n",
        "# 역전파\n",
        "dprice = 1\n",
        "dapple_price, dtax = mul_tax_layer.backward(dprice)\n",
        "dapple, dapple_num = mul_apple_layer.backward(dapple_price)\n",
        "print(dapple, dapple_num, dtax)"
      ],
      "metadata": {
        "colab": {
          "base_uri": "https://localhost:8080/"
        },
        "id": "y0lxrDujnqam",
        "outputId": "23b56469-ff47-48ac-ed61-776eb02f5a9d"
      },
      "execution_count": 46,
      "outputs": [
        {
          "output_type": "stream",
          "name": "stdout",
          "text": [
            "220.00000000000003\n",
            "2.2 110.00000000000001 200\n"
          ]
        }
      ]
    },
    {
      "cell_type": "code",
      "source": [
        "# 덧셈 계층\n",
        "class AddLayer:\n",
        "    def __init__(self):\n",
        "        pass\n",
        "    \n",
        "    def forward(self, x, y):\n",
        "        out = x + y\n",
        "        return out\n",
        "    \n",
        "    def backward(self, dout):\n",
        "        dx = dout * 1\n",
        "        dy = dout * 1\n",
        "        return dx, dy\n",
        "\n",
        "# 사과와 오렌지 쇼핑 구현\n",
        "apple = 100\n",
        "apple_num = 2\n",
        "orange = 150\n",
        "orange_num = 3\n",
        "tax = 1.1\n",
        "\n",
        "mul_apple_layer = MulLayer()\n",
        "mul_orange_layer = MulLayer()\n",
        "add_apple_orange_layer = AddLayer()\n",
        "mul_tax_layer = MulLayer()\n",
        "\n",
        "# 순전파\n",
        "apple_price = mul_apple_layer.forward(apple, apple_num)\n",
        "orange_price = mul_orange_layer.forward(orange, orange_num)\n",
        "all_price = add_apple_orange_layer.forward(apple_price, orange_price)\n",
        "price = mul_tax_layer.forward(all_price, tax)\n",
        "print(price)\n",
        "\n",
        "# 역전파\n",
        "dprice = 1\n",
        "dall_price, dtax = mul_tax_layer.backward(dprice)\n",
        "dapple_price, dorange_price = add_apple_orange_layer.backward(dall_price)\n",
        "dorange, dorange_num = mul_orange_layer.backward(dorange_price)\n",
        "dapple, dapple_num = mul_apple_layer.backward(dapple_price)\n",
        "print(dapple, dapple_num, dorange, dorange_num, dtax)"
      ],
      "metadata": {
        "colab": {
          "base_uri": "https://localhost:8080/"
        },
        "id": "BdvHO28qPVYJ",
        "outputId": "114cb898-59e0-4375-e44e-751e97184821"
      },
      "execution_count": 47,
      "outputs": [
        {
          "output_type": "stream",
          "name": "stdout",
          "text": [
            "715.0000000000001\n",
            "2.2 110.00000000000001 3.3000000000000003 165.0 650\n"
          ]
        }
      ]
    },
    {
      "cell_type": "markdown",
      "source": [
        "**어파인 변환** : 신경망의 순전파에서 수행하는 행렬의 곱 ; 행렬의 shape에 맞춰 연결하는 것이 중요"
      ],
      "metadata": {
        "id": "g1UaU45Pg2hF"
      }
    },
    {
      "cell_type": "code",
      "source": [
        "# 배치용 Affine 계층 예시\n",
        "# 순전파\n",
        "X_dot_W = np.array([[0,0,0],[10,10,10]])\n",
        "B = np.array([1,2,3])\n",
        "print(X_dot_W + B)\n",
        "\n",
        "# 역전파\n",
        "dY = np.array([[1,2,3],[4,5,6]])\n",
        "dB = np.sum(dY, axis=0) # 편향의 역전파 : 배치 합\n",
        "print(dB)"
      ],
      "metadata": {
        "colab": {
          "base_uri": "https://localhost:8080/"
        },
        "id": "Lmrg_R2FF3y6",
        "outputId": "e92d87e0-1971-4459-a5c0-336dcc1ee23e"
      },
      "execution_count": 48,
      "outputs": [
        {
          "output_type": "stream",
          "name": "stdout",
          "text": [
            "[[ 1  2  3]\n",
            " [11 12 13]]\n",
            "[5 7 9]\n"
          ]
        }
      ]
    },
    {
      "cell_type": "code",
      "source": [
        "# ReLU 계층\n",
        "class Relu:\n",
        "    def __init__(self):\n",
        "        self.mask = None\n",
        "    \n",
        "    def forward(self, x):\n",
        "        self.mask = (x<=0)\n",
        "        out = x.copy()\n",
        "        out[self.mask] = 0\n",
        "        return out\n",
        "    \n",
        "    def backward(self, dout):\n",
        "        dout[self.mask] = 0\n",
        "        dx = dout\n",
        "        return dx\n",
        "\n",
        "# Sigmoid 계층\n",
        "class Sigmoid:\n",
        "    def __init__(self):\n",
        "        self.out = None\n",
        "    \n",
        "    def forward(self, x):\n",
        "        out = 1 / (1+np.exp(-x))\n",
        "        self.out = out\n",
        "        return out\n",
        "    \n",
        "    def backward(self, dout):\n",
        "        dx = dout * self.out * (1.0-self.out)\n",
        "        return dx\n",
        "\n",
        "# Affine 계층\n",
        "class Affine:\n",
        "    def __init__(self, W, b):\n",
        "        self.W = W\n",
        "        self.b = b\n",
        "        self.x = None\n",
        "        self.dW = None\n",
        "        self.db = None\n",
        "\n",
        "    def forward(self, x):\n",
        "        self.x = x\n",
        "        out = np.dot(x, self.W) + self.b\n",
        "        return out\n",
        "\n",
        "    def backward(self, dout):\n",
        "        dx = np.dot(dout, self.W.T)\n",
        "        self.dW = np.dot(self.x.T, dout)\n",
        "        self.db = np.sum(dout, axis=0)\n",
        "        return dx\n",
        "\n",
        "# Softmax-with-Loss 계층\n",
        "class SoftmaxWithLoss:\n",
        "    def __init__(self):\n",
        "        self.loss = None\n",
        "        self.y = None\n",
        "        self.t = None\n",
        "\n",
        "    def forward(self, x, t):\n",
        "        self.t = t\n",
        "        self.y = softmax(x)\n",
        "        self.loss = cross_entropy_error(self.y, self.t) # 배치 크로스엔트로피\n",
        "        return self.loss\n",
        "    \n",
        "    def backward(self, dout=1):\n",
        "        batch_size = self.t.shape[0]\n",
        "        dx = (self.y - self.t) / batch_size # 배치 단위의 계산을 위해 데이터 샘플 1개 기준의 미분으로 역전파\n",
        "        return dx"
      ],
      "metadata": {
        "id": "mElGlStpPbz8"
      },
      "execution_count": 49,
      "outputs": []
    },
    {
      "cell_type": "markdown",
      "source": [
        "**계산 그래프**\n",
        "- ex. Softmax-with-Loss 계층 (역전파 과정에서 여러 갈래로부터 역류한 값은 더하여 계산)"
      ],
      "metadata": {
        "id": "XmYQIlmyQ6bW"
      }
    },
    {
      "cell_type": "markdown",
      "source": [
        "![image.png](data:image/png;base64,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)"
      ],
      "metadata": {
        "id": "Y25cX2_2Okji"
      }
    },
    {
      "cell_type": "markdown",
      "source": [
        "손실함수로 분류에서 크로스엔트로피, 회귀에서 오차제곱합을 사용한 역전파의 결과 $\\rightarrow$ 오차\n",
        "> $Y-T = (y_1-t_1, ..., y_m-t_m)$  (단, Y는 예측, T는 정답, m은 분류 클래스의 개수)"
      ],
      "metadata": {
        "id": "8ahxoodIXcx5"
      }
    },
    {
      "cell_type": "markdown",
      "source": [
        "**오차역전파법**"
      ],
      "metadata": {
        "id": "E93xW5_sNVql"
      }
    },
    {
      "cell_type": "code",
      "source": [
        "from common.layers import * # 구현된 계층 사용\n",
        "from common.gradient import numerical_gradient\n",
        "from collections import OrderedDict # 순서 딕셔너리로 신경망 계층을 저장\n",
        "\n",
        "class TwoLayerNet:\n",
        "    def __init(self, input_size, hidden_size, output_size, weight_init_std=0.01):\n",
        "        # 가중치, 편향\n",
        "        self.params = {}\n",
        "        self.params['W1'] = weight_init_std * np.random.randn(input_size, hidden_size)\n",
        "        self.params['b1'] = np.zeros(hidden_size)\n",
        "        self.params['W2'] = weight_init_std * np.random.randn(hidden_size, output_size)\n",
        "        self.params['b2'] = np.zeros(output_size)\n",
        "        # 계층\n",
        "        self.layers = OrderedDict()\n",
        "        self.layers['Affine1'] = Affine(self.params['W1'], self.params['b1'])\n",
        "        self.layers['Relu1'] = Relu()\n",
        "        self.layers['Affine2'] = Affine(self.params['W2'], self.params['b2'])\n",
        "        self.lastLayer = SoftmaxWithLoss()\n",
        "    \n",
        "    def predict(self, x):\n",
        "        for layer in self.layers.values():\n",
        "            x = layer.forward(x)\n",
        "        return x\n",
        "    \n",
        "    def loss(self, x, t):\n",
        "        y = self.predict(x)\n",
        "        return self.lastLayer.forward(y, t)\n",
        "\n",
        "    def accuracy(self, x, t):\n",
        "        y = self.predict(x)\n",
        "        y = np.argmax(y, axis=1)\n",
        "        if t.ndim!=1: # 정답이 원핫 인코딩된 경우\n",
        "            t = np.argmax(t, axis=1)\n",
        "        accuracy = np.sum(y==t) / float(x.shape[0])\n",
        "        return accuracy\n",
        "    \n",
        "    def numerical_gradient(self, x, t): # 수치 미분 방식으로 기울기 계산\n",
        "        loss_W = lambda W: self.loss(x, t)\n",
        "        grads = {}\n",
        "        grads['W1'] = numerical_gradient(loss_W, self.params['W1'])\n",
        "        grads['b1'] = numerical_gradient(loss_W, self.params['b1'])\n",
        "        grads['W2'] = numerical_gradient(loss_W, self.params['W2'])\n",
        "        grads['b2'] = numerical_gradient(loss_W, self.params['b2'])\n",
        "        return grads # 기울기 확인(검증) : 오차역전파법에 의한 결과와 비교\n",
        "    \n",
        "    def gradient(self, x, t): # 오차역전파법으로 기울기 계산\n",
        "        # 순전파\n",
        "        self.loss(x, t)\n",
        "        # 역전파\n",
        "        dout = 1\n",
        "        dout = self.lastLayer.backward(dout)\n",
        "        layers = list(self.layers.values())\n",
        "        layers.reverse() # 순서 딕셔너리에 저장된 계층을 역순으로 전파\n",
        "        for layer in layers:\n",
        "            dout = layer.backward(dout)\n",
        "        # 결과 저장\n",
        "        grads = {}\n",
        "        grads['W1'] = self.layers['Affine1'].dW\n",
        "        grads['b1'] = self.layers['Affine1'].db\n",
        "        grads['W2'] = self.layers['Affine2'].dW\n",
        "        grads['b2'] = self.layers['Affine2'].db\n",
        "        return grads"
      ],
      "metadata": {
        "id": "a_Eut4kgOmKX"
      },
      "execution_count": 50,
      "outputs": []
    },
    {
      "cell_type": "code",
      "source": [
        "# 기울기 확인\n",
        "from dataset.mnist import load_mnist\n",
        "from ch05.two_layer_net import TwoLayerNet\n",
        "(x_train, t_train), (x_test, t_test) = load_mnist(normalize=True, one_hot_label=True)\n",
        "\n",
        "network = TwoLayerNet(input_size=784, hidden_size=50, output_size=10)\n",
        "x_batch = x_train[:3]\n",
        "t_batch = t_train[:3]\n",
        "\n",
        "grad_numerical = network.numerical_gradient(x_batch, t_batch)\n",
        "grad_backprop = network.gradient(x_batch, t_batch)\n",
        "\n",
        "# 각 가중치와 편향에 대하여, 두 방식으로 계산된 기울기의 평균 차이를 계산\n",
        "for key in grad_numerical.keys(): # W1, b1, W2, b2\n",
        "    diff = np.average(np.abs(grad_backprop[key] - grad_numerical[key]))\n",
        "    print(key + ':' + str(diff))"
      ],
      "metadata": {
        "colab": {
          "base_uri": "https://localhost:8080/"
        },
        "id": "llxEGNJXQ1Ff",
        "outputId": "ad81e692-7c05-4fe3-c32b-b68963c8a2d5"
      },
      "execution_count": 54,
      "outputs": [
        {
          "output_type": "stream",
          "name": "stdout",
          "text": [
            "W1:3.799881943053894e-10\n",
            "b1:2.2880455596971037e-09\n",
            "W2:5.708994533284374e-09\n",
            "b2:1.3989752751658592e-07\n"
          ]
        }
      ]
    },
    {
      "cell_type": "code",
      "source": [
        "# 신경망 학습 최종 구현\n",
        "from dataset.mnist import load_mnist\n",
        "from ch05.two_layer_net import TwoLayerNet\n",
        "from tqdm import tqdm\n",
        "(x_train, t_train), (x_test, t_test) = load_mnist(normalize=True, one_hot_label=True)\n",
        "\n",
        "network = TwoLayerNet(input_size=784, hidden_size=75, output_size=10)\n",
        "\n",
        "iters_num = 10000\n",
        "train_size = x_train.shape[0]\n",
        "batch_size = 150\n",
        "learning_rate = 0.1\n",
        "\n",
        "train_loss_list = []\n",
        "train_acc_list = []\n",
        "test_acc_list = []\n",
        "\n",
        "iter_per_epoch = max(train_size/batch_size, 1)\n",
        "\n",
        "for i in tqdm(range(iters_num)):\n",
        "    batch_mask = np.random.choice(train_size, batch_size)\n",
        "    x_batch = x_train[batch_mask]\n",
        "    t_batch = t_train[batch_mask]\n",
        "\n",
        "    grad = network.gradient(x_batch, t_batch)\n",
        "    for key in ('W1', 'b1', 'W2', 'b2'):\n",
        "        network.params[key] -= learning_rate * grad[key]\n",
        "    \n",
        "    loss = network.loss(x_batch, t_batch)\n",
        "    train_loss_list.append(loss)\n",
        "    if i%iter_per_epoch==0:\n",
        "        train_acc = network.accuracy(x_train, t_train)\n",
        "        test_acc = network.accuracy(x_test, t_test)\n",
        "        train_acc_list.append(train_acc)\n",
        "        test_acc_list.append(test_acc)\n",
        "        print('\\n', f'iteration : {i} >>> train accuracy : {train_acc} | test accuracy : {test_acc}')"
      ],
      "metadata": {
        "colab": {
          "base_uri": "https://localhost:8080/"
        },
        "id": "e5ijOkXN88uD",
        "outputId": "e8a1eeec-6a1b-4ac6-bc7e-e6e059356cc7"
      },
      "execution_count": 59,
      "outputs": [
        {
          "output_type": "stream",
          "name": "stderr",
          "text": [
            "  0%|          | 17/10000 [00:01<07:50, 21.20it/s] "
          ]
        },
        {
          "output_type": "stream",
          "name": "stdout",
          "text": [
            "\n",
            " iteration : 0 >>> train accuracy : 0.10941666666666666 | test accuracy : 0.1134\n"
          ]
        },
        {
          "output_type": "stream",
          "name": "stderr",
          "text": [
            "  4%|▍         | 414/10000 [00:06<06:52, 23.23it/s]"
          ]
        },
        {
          "output_type": "stream",
          "name": "stdout",
          "text": [
            "\n",
            " iteration : 400 >>> train accuracy : 0.8918666666666667 | test accuracy : 0.8974\n"
          ]
        },
        {
          "output_type": "stream",
          "name": "stderr",
          "text": [
            "  8%|▊         | 825/10000 [00:10<02:06, 72.51it/s]"
          ]
        },
        {
          "output_type": "stream",
          "name": "stdout",
          "text": [
            "\n",
            " iteration : 800 >>> train accuracy : 0.9123833333333333 | test accuracy : 0.9136\n"
          ]
        },
        {
          "output_type": "stream",
          "name": "stderr",
          "text": [
            " 12%|█▏        | 1220/10000 [00:13<02:12, 66.12it/s]"
          ]
        },
        {
          "output_type": "stream",
          "name": "stdout",
          "text": [
            "\n",
            " iteration : 1200 >>> train accuracy : 0.9245333333333333 | test accuracy : 0.926\n"
          ]
        },
        {
          "output_type": "stream",
          "name": "stderr",
          "text": [
            " 16%|█▌        | 1622/10000 [00:16<01:59, 70.00it/s]"
          ]
        },
        {
          "output_type": "stream",
          "name": "stdout",
          "text": [
            "\n",
            " iteration : 1600 >>> train accuracy : 0.9327 | test accuracy : 0.9328\n"
          ]
        },
        {
          "output_type": "stream",
          "name": "stderr",
          "text": [
            " 20%|██        | 2016/10000 [00:22<05:42, 23.29it/s]"
          ]
        },
        {
          "output_type": "stream",
          "name": "stdout",
          "text": [
            "\n",
            " iteration : 2000 >>> train accuracy : 0.9410666666666667 | test accuracy : 0.9396\n"
          ]
        },
        {
          "output_type": "stream",
          "name": "stderr",
          "text": [
            " 24%|██▍       | 2430/10000 [00:26<01:48, 69.97it/s]"
          ]
        },
        {
          "output_type": "stream",
          "name": "stdout",
          "text": [
            "\n",
            " iteration : 2400 >>> train accuracy : 0.9469833333333333 | test accuracy : 0.9458\n"
          ]
        },
        {
          "output_type": "stream",
          "name": "stderr",
          "text": [
            " 28%|██▊       | 2822/10000 [00:29<01:41, 70.61it/s]"
          ]
        },
        {
          "output_type": "stream",
          "name": "stdout",
          "text": [
            "\n",
            " iteration : 2800 >>> train accuracy : 0.9517833333333333 | test accuracy : 0.9495\n"
          ]
        },
        {
          "output_type": "stream",
          "name": "stderr",
          "text": [
            " 32%|███▏      | 3233/10000 [00:32<01:36, 70.06it/s]"
          ]
        },
        {
          "output_type": "stream",
          "name": "stdout",
          "text": [
            "\n",
            " iteration : 3200 >>> train accuracy : 0.95675 | test accuracy : 0.9541\n"
          ]
        },
        {
          "output_type": "stream",
          "name": "stderr",
          "text": [
            " 36%|███▋      | 3625/10000 [00:38<03:08, 33.82it/s]"
          ]
        },
        {
          "output_type": "stream",
          "name": "stdout",
          "text": [
            "\n",
            " iteration : 3600 >>> train accuracy : 0.9604833333333334 | test accuracy : 0.9564\n"
          ]
        },
        {
          "output_type": "stream",
          "name": "stderr",
          "text": [
            " 40%|████      | 4019/10000 [00:41<01:26, 68.75it/s]"
          ]
        },
        {
          "output_type": "stream",
          "name": "stdout",
          "text": [
            "\n",
            " iteration : 4000 >>> train accuracy : 0.9633833333333334 | test accuracy : 0.9595\n"
          ]
        },
        {
          "output_type": "stream",
          "name": "stderr",
          "text": [
            " 44%|████▍     | 4424/10000 [00:44<01:20, 69.15it/s]"
          ]
        },
        {
          "output_type": "stream",
          "name": "stdout",
          "text": [
            "\n",
            " iteration : 4400 >>> train accuracy : 0.9652333333333334 | test accuracy : 0.9608\n"
          ]
        },
        {
          "output_type": "stream",
          "name": "stderr",
          "text": [
            " 48%|████▊     | 4822/10000 [00:47<01:15, 68.30it/s]"
          ]
        },
        {
          "output_type": "stream",
          "name": "stdout",
          "text": [
            "\n",
            " iteration : 4800 >>> train accuracy : 0.9677833333333333 | test accuracy : 0.9633\n"
          ]
        },
        {
          "output_type": "stream",
          "name": "stderr",
          "text": [
            " 52%|█████▏    | 5225/10000 [00:53<02:15, 35.28it/s]"
          ]
        },
        {
          "output_type": "stream",
          "name": "stdout",
          "text": [
            "\n",
            " iteration : 5200 >>> train accuracy : 0.9703833333333334 | test accuracy : 0.9655\n"
          ]
        },
        {
          "output_type": "stream",
          "name": "stderr",
          "text": [
            " 56%|█████▌    | 5619/10000 [00:56<01:04, 67.84it/s]"
          ]
        },
        {
          "output_type": "stream",
          "name": "stdout",
          "text": [
            "\n",
            " iteration : 5600 >>> train accuracy : 0.97075 | test accuracy : 0.9645\n"
          ]
        },
        {
          "output_type": "stream",
          "name": "stderr",
          "text": [
            " 60%|██████    | 6027/10000 [00:59<00:56, 69.91it/s]"
          ]
        },
        {
          "output_type": "stream",
          "name": "stdout",
          "text": [
            "\n",
            " iteration : 6000 >>> train accuracy : 0.9735666666666667 | test accuracy : 0.9666\n"
          ]
        },
        {
          "output_type": "stream",
          "name": "stderr",
          "text": [
            " 64%|██████▍   | 6429/10000 [01:03<00:51, 68.90it/s]"
          ]
        },
        {
          "output_type": "stream",
          "name": "stdout",
          "text": [
            "\n",
            " iteration : 6400 >>> train accuracy : 0.9754 | test accuracy : 0.9687\n"
          ]
        },
        {
          "output_type": "stream",
          "name": "stderr",
          "text": [
            " 68%|██████▊   | 6824/10000 [01:08<01:22, 38.31it/s]"
          ]
        },
        {
          "output_type": "stream",
          "name": "stdout",
          "text": [
            "\n",
            " iteration : 6800 >>> train accuracy : 0.9758166666666667 | test accuracy : 0.9698\n"
          ]
        },
        {
          "output_type": "stream",
          "name": "stderr",
          "text": [
            " 72%|███████▏  | 7229/10000 [01:12<00:42, 64.54it/s]"
          ]
        },
        {
          "output_type": "stream",
          "name": "stdout",
          "text": [
            "\n",
            " iteration : 7200 >>> train accuracy : 0.97735 | test accuracy : 0.9691\n"
          ]
        },
        {
          "output_type": "stream",
          "name": "stderr",
          "text": [
            " 76%|███████▋  | 7626/10000 [01:15<00:36, 64.39it/s]"
          ]
        },
        {
          "output_type": "stream",
          "name": "stdout",
          "text": [
            "\n",
            " iteration : 7600 >>> train accuracy : 0.9786 | test accuracy : 0.9701\n"
          ]
        },
        {
          "output_type": "stream",
          "name": "stderr",
          "text": [
            " 80%|████████  | 8011/10000 [01:19<00:43, 45.54it/s] "
          ]
        },
        {
          "output_type": "stream",
          "name": "stdout",
          "text": [
            "\n",
            " iteration : 8000 >>> train accuracy : 0.979 | test accuracy : 0.9718\n"
          ]
        },
        {
          "output_type": "stream",
          "name": "stderr",
          "text": [
            " 84%|████████▍ | 8426/10000 [01:24<00:28, 55.21it/s]"
          ]
        },
        {
          "output_type": "stream",
          "name": "stdout",
          "text": [
            "\n",
            " iteration : 8400 >>> train accuracy : 0.9795666666666667 | test accuracy : 0.9714\n"
          ]
        },
        {
          "output_type": "stream",
          "name": "stderr",
          "text": [
            " 88%|████████▊ | 8821/10000 [01:28<00:16, 71.52it/s]"
          ]
        },
        {
          "output_type": "stream",
          "name": "stdout",
          "text": [
            "\n",
            " iteration : 8800 >>> train accuracy : 0.9807333333333333 | test accuracy : 0.9714\n"
          ]
        },
        {
          "output_type": "stream",
          "name": "stderr",
          "text": [
            " 92%|█████████▏| 9220/10000 [01:31<00:12, 64.25it/s]"
          ]
        },
        {
          "output_type": "stream",
          "name": "stdout",
          "text": [
            "\n",
            " iteration : 9200 >>> train accuracy : 0.9818166666666667 | test accuracy : 0.9741\n"
          ]
        },
        {
          "output_type": "stream",
          "name": "stderr",
          "text": [
            " 96%|█████████▌| 9616/10000 [01:35<00:09, 41.01it/s]"
          ]
        },
        {
          "output_type": "stream",
          "name": "stdout",
          "text": [
            "\n",
            " iteration : 9600 >>> train accuracy : 0.9831166666666666 | test accuracy : 0.9736\n"
          ]
        },
        {
          "output_type": "stream",
          "name": "stderr",
          "text": [
            "100%|██████████| 10000/10000 [01:39<00:00, 100.46it/s]\n"
          ]
        }
      ]
    }
  ]
}